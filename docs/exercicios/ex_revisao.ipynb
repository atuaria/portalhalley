{
 "cells": [
  {
   "cell_type": "markdown",
   "metadata": {},
   "source": [
    "# Revisão de conhecimento\n",
    "\n",
    "## *CE074 - Controle de Processos Industriais*"
   ]
  },
  {
   "cell_type": "markdown",
   "metadata": {},
   "source": [
    "1. Quais as suposições de um experimento inteiramente casualizado?\n",
    "```\n",
    "As UEs devem ser independentes.\n",
    "A determinação dos níveis dos fatores para as UEs deve ser aleatória.\n",
    "A distribuição dos dados amostrais deve ser normal (?).\n",
    "A variância deve ser homocedástica entre os níveis dos fatores (?).\n",
    "```\n",
    "2. Quais as suposições de um experimento em blocos ao acaso?\n",
    "```\n",
    "Os blocos devem ser homogêneos (as características de dentro dos blocos\n",
    "devem ser semehantes).\n",
    "As UEs devem ser independentes.\n",
    "A determinação dos níveis dos fatores para as UEs dentro dos blocos deve\n",
    "ser aleatória.\n",
    "A distribuição dos dados amostrais deve ser normal (?).\n",
    "A variância deve ser homogêmea dentro dos blocos (?).\n",
    "```\n",
    "3. O que é um experimento em blocos incompletos?\n",
    "```\n",
    "No DBC o número de UEs por bloco deve ser igual ao número de\n",
    "tratamentos, mas nem sempre isso é possível. Quando não é possível\n",
    "utilizar todos os tratamentos em cada um dos blocos deve-se utilizar um\n",
    "delineamento em blocos incompletos. Por exemplo, podemos ter um fator\n",
    "com 6 níveis, mas devido à alguma restrição (física, logística,\n",
    "orçamentária, ...) temos apenas 4 UEs por bloco.\n",
    "```\n",
    "4. O que é um experimento em blocos incompletos balanceado?\n",
    "```\n",
    "Um bloco incompleto balanceado é um delineamento em que cada um dos\n",
    "níveis do fator é repetido r vezes e ocorre no máximo uma vez em cada um\n",
    "dos b blocos.\n",
    "Todos os blocos tem o mesmo tamanho, e todos os tratamentos tem o mesmo\n",
    "número de repetições.\n",
    "```\n",
    "5. Por que agrupamos unidades experimentais (UEs) em blocos?\n",
    "```\n",
    "Para fazer o controle local. Agrupar UEs em blocos serve para\n",
    "homegeneizar as amostras em termos de variabilidade, pois o agrupamento\n",
    "é feito para que as amostras dentro de cada bloco possuam\n",
    "características similares.\n",
    "```\n",
    "6. Como se espera que sejam as UEs dentro de um bloco?\n",
    "```\n",
    "Espera-se que as UEs sejam homogêneas, ou seja, que a variabilidade\n",
    "entre as amostras de um mesmo bloco seja pequena. A variabilidade das\n",
    "amostras dentro de um bloco deve ser menor do que a variabilidade entre\n",
    "as amostras se não houvessem os blocos.\n",
    "```\n",
    "7. Por que aleatorizamos os níveis do fator às UE?\n",
    "```\n",
    "Para evitar que ocorram erros sistemáticos nas amostras. Sabemos que\n",
    "mesmo entre UEs aparentemente idênticas, existe uma particularidade\n",
    "natural de cada UE (e.g. plantas, máquinas, ...). A aleatorização entre\n",
    "as UEs garante que os níveis do fator de interesse serão aplicados\n",
    "independentemente destas características, fazendo com que qualquer\n",
    "variação observada entre as UEs seja efeito apenas do nível do fator e\n",
    "da variação aleatória intrínsica ao mecanismo gerador da resposta.\n",
    "```\n",
    "8. Em experimentos agricolas é comum não se colher a bordadura das\n",
    "parcelas. Em experimentos médicos, médicos e pacientes não sabem que\n",
    "níveis do fator foram administrados. Nas pesquisas de opinião, evita-se\n",
    "que uma pessoa conheça a avaliação das demais. Por que são adotados tais\n",
    "procedimentos?\n",
    "```\n",
    "Para garantir a independência entre as amostras.\n",
    "```\n",
    "9. (**Descreva**) Como é a aleatorização dos níveis em um experimento\n",
    "inteiramente casualizado?\n",
    "```\n",
    "Os níveis dos fatores são atribuídos aleatoriamente para cada UE. Uma\n",
    "forma simples de fazer este sorteio aleatório é definir um valor para\n",
    "cada UE.\n",
    "```\n",
    "(**Use o R**) Como você faria se tivesse um fator com 3 níveis (A, B,\n",
    "C), e quisesse fazer 4 repetições para cada nível do fator?"
   ]
  },
  {
   "cell_type": "code",
   "execution_count": null,
   "metadata": {
    "collapsed": true
   },
   "outputs": [],
   "source": [
    "## Dessa forma, temos 3 x 4 = 12 UEs. Associamos os valores de 1 a 12\n",
    "## para cada UE, e sorteamos os níveis dos fatores para cada uma\n",
    "nf <- 3\n",
    "r <- 4\n",
    "n <- nf * r\n",
    "fator <- rep(c(\"A\", \"B\", \"C\"), each = r)\n",
    "set.seed(123)\n",
    "(DIC <- data.frame(UE = 1:n, Fator = sample(fator)))\n",
    "## Croqui do experimento\n",
    "matrix(DIC$Fator, ncol = nf, dimnames = list(1:r, 1:nf))"
   ]
  },
  {
   "cell_type": "markdown",
   "metadata": {},
   "source": [
    "10. (**Descreva**) Como é a aleatorização dos níveis em um experimento de\n",
    "blocos ao acaso?\n",
    "```\n",
    "Quando temos blocos, a aleatorização é realizada dentro de cada\n",
    "bloco. Portanto precisamos inicialmente definir os blocos e verificar\n",
    "quantas UEs pertencem a cada bloco.  Idealmente, cada nível do fator\n",
    "deve estar presente em todos os blocos.\n",
    "```\n",
    "(**Use o R**) Suponha que temos um experimento com 4 blocos, e um fator\n",
    "com 6 níveis para ser avaliado. Como seria a aleatorização?"
   ]
  },
  {
   "cell_type": "code",
   "execution_count": null,
   "metadata": {
    "collapsed": true
   },
   "outputs": [],
   "source": [
    "## Nesse caso, temos 6 x 4 = 24 UEs. Associamos os valores de 1 a 24\n",
    "## para cada UE, e alocamos cada 6 UEs em cada um dos 4 blocos. Os\n",
    "## níveis dos fatores devem ser sorteados dentro de cada bloco\n",
    "nf <- 6\n",
    "b <- 4\n",
    "n <- nf * b\n",
    "fator <- rep(LETTERS[1:6], each = b)\n",
    "blocos <- rep(c(\"I\", \"II\", \"III\", \"IV\"), each = nf)\n",
    "set.seed(123)\n",
    "## Certo??\n",
    "(DBC <- data.frame(UE = 1:n, Blocos = blocos, Fator = sample(fator)))\n",
    "## Não. Fazer:\n",
    "set.seed(123)\n",
    "(DBC <- data.frame(UE = 1:n, Blocos = blocos,\n",
    "                   Fator = as.vector(\n",
    "                       replicate(b, sample(unique(fator)))\n",
    "                   )))\n",
    "## Croqui do experimento\n",
    "matrix(DBC$Fator, ncol = b, dimnames = list(1:nf, paste(\"Bloco\", 1:b)))\n",
    "```"
   ]
  }
 ],
 "metadata": {
  "kernelspec": {
   "display_name": "R",
   "language": "R",
   "name": "ir"
  },
  "language_info": {
   "codemirror_mode": "r",
   "file_extension": ".r",
   "mimetype": "text/x-r-source",
   "name": "R",
   "pygments_lexer": "r",
   "version": "3.4.1"
  }
 },
 "nbformat": 4,
 "nbformat_minor": 2
}
